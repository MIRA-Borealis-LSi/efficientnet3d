{
 "cells": [
  {
   "cell_type": "code",
   "execution_count": 95,
   "metadata": {
    "ExecuteTime": {
     "end_time": "2023-11-10T03:41:42.728292909Z",
     "start_time": "2023-11-10T03:41:42.724646715Z"
    }
   },
   "outputs": [],
   "source": [
    "import os\n",
    "import sys \n",
    "import json\n",
    "import glob\n",
    "import random\n",
    "import collections\n",
    "import time\n",
    "import re\n",
    "\n",
    "import numpy as np\n",
    "import pandas as pd\n",
    "import pydicom\n",
    "from pydicom.pixel_data_handlers.util import apply_voi_lut\n",
    "import cv2\n",
    "import matplotlib.pyplot as plt\n",
    "import seaborn as sns\n",
    "\n",
    "import torch\n",
    "from torch import nn\n",
    "from torch.utils import data as torch_data\n",
    "from sklearn import model_selection as sk_model_selection\n",
    "from torch.nn import functional as torch_functional\n",
    "import torch.nn.functional as F\n",
    "\n",
    "from sklearn.model_selection import StratifiedKFold\n",
    "from sklearn.metrics import roc_auc_score, roc_curve, auc"
   ]
  },
  {
   "cell_type": "code",
   "execution_count": 96,
   "metadata": {
    "ExecuteTime": {
     "end_time": "2023-11-10T03:41:42.734267312Z",
     "start_time": "2023-11-10T03:41:42.729879326Z"
    }
   },
   "outputs": [],
   "source": [
    "data_directory = 'rsna-miccai-brain-tumor-radiogenomic-classification'\n",
    "pytorch3dpath = \"EfficientNet-PyTorch-3D\"\n",
    "\n",
    "mri_types = ['FLAIR','T1w','T1wCE','T2w']\n",
    "SIZE = 256\n",
    "NUM_IMAGES = 64\n",
    "\n",
    "sys.path.append(pytorch3dpath)\n",
    "\n",
    "from efficientnet_pytorch_3d import EfficientNet3D"
   ]
  },
  {
   "cell_type": "code",
   "execution_count": 97,
   "metadata": {
    "collapsed": false,
    "ExecuteTime": {
     "end_time": "2023-11-10T03:41:45.540006343Z",
     "start_time": "2023-11-10T03:41:42.734443405Z"
    }
   },
   "outputs": [
    {
     "name": "stdout",
     "output_type": "stream",
     "text": [
      "(1, 256, 256, 64)\n",
      "0.0 1.0 0.07902179328632788 0.00023671822699371212\n"
     ]
    }
   ],
   "source": [
    "def load_dicom_image(path, img_size=SIZE, voi_lut=True, rotate=0):\n",
    "    dicom = pydicom.read_file(path)\n",
    "    data = dicom.pixel_array\n",
    "    if voi_lut:\n",
    "        data = apply_voi_lut(dicom.pixel_array, dicom)\n",
    "    else:\n",
    "        data = dicom.pixel_array\n",
    "        \n",
    "    if rotate > 0:\n",
    "        rot_choices = [0, cv2.ROTATE_90_CLOCKWISE, cv2.ROTATE_90_COUNTERCLOCKWISE, cv2.ROTATE_180]\n",
    "        data = cv2.rotate(data, rot_choices[rotate])\n",
    "        \n",
    "    data = cv2.resize(data, (img_size, img_size))\n",
    "    return data\n",
    "\n",
    "\n",
    "def load_dicom_images_3d(scan_id, num_imgs=NUM_IMAGES, img_size=SIZE, mri_type=\"FLAIR\", split=\"train\", rotate=0):\n",
    "\n",
    "    files = sorted(glob.glob(f\"{data_directory}/{split}/{scan_id}/{mri_type}/*.dcm\"), \n",
    "               key=lambda var:[int(x) if x.isdigit() else x for x in re.findall(r'[^0-9]|[0-9]+', var)])\n",
    "\n",
    "    middle = len(files)//2\n",
    "    num_imgs2 = num_imgs//2\n",
    "    p1 = max(0, middle - num_imgs2)\n",
    "    p2 = min(len(files), middle + num_imgs2)\n",
    "    img3d = np.stack([load_dicom_image(f, rotate=rotate) for f in files[p1:p2]]).T \n",
    "    if img3d.shape[-1] < num_imgs:\n",
    "        n_zero = np.zeros((img_size, img_size, num_imgs - img3d.shape[-1]))\n",
    "        img3d = np.concatenate((img3d,  n_zero), axis = -1)\n",
    "        \n",
    "    if np.min(img3d) < np.max(img3d):\n",
    "        img3d = img3d - np.min(img3d)\n",
    "        img3d = img3d / np.max(img3d)\n",
    "            \n",
    "    return np.expand_dims(img3d,0)\n",
    "\n",
    "a = load_dicom_images_3d(\"00000\")\n",
    "print(a.shape)\n",
    "print(np.min(a), np.max(a), np.mean(a), np.median(a))"
   ]
  },
  {
   "cell_type": "code",
   "execution_count": 98,
   "metadata": {
    "collapsed": false,
    "ExecuteTime": {
     "end_time": "2023-11-10T03:41:45.540359483Z",
     "start_time": "2023-11-10T03:41:45.537920044Z"
    }
   },
   "outputs": [],
   "source": [
    "def set_seed(seed):\n",
    "    random.seed(seed)\n",
    "    os.environ[\"PYTHONHASHSEED\"] = str(seed)\n",
    "    np.random.seed(seed)\n",
    "    torch.manual_seed(seed)\n",
    "    if torch.cuda.is_available():\n",
    "        torch.cuda.manual_seed_all(seed)\n",
    "        torch.backends.cudnn.deterministic = True\n",
    "\n",
    "set_seed(12)"
   ]
  },
  {
   "cell_type": "code",
   "execution_count": 99,
   "metadata": {
    "collapsed": false,
    "ExecuteTime": {
     "end_time": "2023-11-10T03:41:45.540747408Z",
     "start_time": "2023-11-10T03:41:45.537966952Z"
    }
   },
   "outputs": [
    {
     "data": {
      "text/plain": "     BraTS21ID  MGMT_value\n0            0           1\n1            2           1\n2            3           0\n3            5           1\n4            6           1\n..         ...         ...\n580       1005           1\n581       1007           1\n582       1008           1\n583       1009           0\n584       1010           0\n\n[585 rows x 2 columns]",
      "text/html": "<div>\n<style scoped>\n    .dataframe tbody tr th:only-of-type {\n        vertical-align: middle;\n    }\n\n    .dataframe tbody tr th {\n        vertical-align: top;\n    }\n\n    .dataframe thead th {\n        text-align: right;\n    }\n</style>\n<table border=\"1\" class=\"dataframe\">\n  <thead>\n    <tr style=\"text-align: right;\">\n      <th></th>\n      <th>BraTS21ID</th>\n      <th>MGMT_value</th>\n    </tr>\n  </thead>\n  <tbody>\n    <tr>\n      <th>0</th>\n      <td>0</td>\n      <td>1</td>\n    </tr>\n    <tr>\n      <th>1</th>\n      <td>2</td>\n      <td>1</td>\n    </tr>\n    <tr>\n      <th>2</th>\n      <td>3</td>\n      <td>0</td>\n    </tr>\n    <tr>\n      <th>3</th>\n      <td>5</td>\n      <td>1</td>\n    </tr>\n    <tr>\n      <th>4</th>\n      <td>6</td>\n      <td>1</td>\n    </tr>\n    <tr>\n      <th>...</th>\n      <td>...</td>\n      <td>...</td>\n    </tr>\n    <tr>\n      <th>580</th>\n      <td>1005</td>\n      <td>1</td>\n    </tr>\n    <tr>\n      <th>581</th>\n      <td>1007</td>\n      <td>1</td>\n    </tr>\n    <tr>\n      <th>582</th>\n      <td>1008</td>\n      <td>1</td>\n    </tr>\n    <tr>\n      <th>583</th>\n      <td>1009</td>\n      <td>0</td>\n    </tr>\n    <tr>\n      <th>584</th>\n      <td>1010</td>\n      <td>0</td>\n    </tr>\n  </tbody>\n</table>\n<p>585 rows × 2 columns</p>\n</div>"
     },
     "metadata": {},
     "output_type": "display_data"
    }
   ],
   "source": [
    "train_df = pd.read_csv(f\"{data_directory}/train_labels.csv\")\n",
    "display(train_df)\n",
    "\n",
    "df_train, df_valid = sk_model_selection.train_test_split(\n",
    "    train_df, \n",
    "    test_size=0.2, \n",
    "    random_state=12, \n",
    "    stratify=train_df[\"MGMT_value\"],\n",
    ")\n"
   ]
  },
  {
   "cell_type": "code",
   "execution_count": 100,
   "metadata": {
    "collapsed": false,
    "ExecuteTime": {
     "end_time": "2023-11-10T03:41:45.541098214Z",
     "start_time": "2023-11-10T03:41:45.538011915Z"
    }
   },
   "outputs": [
    {
     "data": {
      "text/plain": "     BraTS21ID  MGMT_value\n105        157           0\n222        322           1\n114        170           0\n223        324           0\n81         123           0",
      "text/html": "<div>\n<style scoped>\n    .dataframe tbody tr th:only-of-type {\n        vertical-align: middle;\n    }\n\n    .dataframe tbody tr th {\n        vertical-align: top;\n    }\n\n    .dataframe thead th {\n        text-align: right;\n    }\n</style>\n<table border=\"1\" class=\"dataframe\">\n  <thead>\n    <tr style=\"text-align: right;\">\n      <th></th>\n      <th>BraTS21ID</th>\n      <th>MGMT_value</th>\n    </tr>\n  </thead>\n  <tbody>\n    <tr>\n      <th>105</th>\n      <td>157</td>\n      <td>0</td>\n    </tr>\n    <tr>\n      <th>222</th>\n      <td>322</td>\n      <td>1</td>\n    </tr>\n    <tr>\n      <th>114</th>\n      <td>170</td>\n      <td>0</td>\n    </tr>\n    <tr>\n      <th>223</th>\n      <td>324</td>\n      <td>0</td>\n    </tr>\n    <tr>\n      <th>81</th>\n      <td>123</td>\n      <td>0</td>\n    </tr>\n  </tbody>\n</table>\n</div>"
     },
     "execution_count": 100,
     "metadata": {},
     "output_type": "execute_result"
    }
   ],
   "source": [
    "df_train.tail()"
   ]
  },
  {
   "cell_type": "code",
   "execution_count": 101,
   "metadata": {
    "collapsed": false,
    "ExecuteTime": {
     "end_time": "2023-11-10T03:41:45.541363167Z",
     "start_time": "2023-11-10T03:41:45.538035920Z"
    }
   },
   "outputs": [],
   "source": [
    "class Dataset(torch_data.Dataset):\n",
    "    def __init__(self, paths, targets=None, mri_type=None, label_smoothing=0.01, split=\"train\", augment=False):\n",
    "        self.paths = paths\n",
    "        self.targets = targets\n",
    "        self.mri_type = mri_type\n",
    "        self.label_smoothing = label_smoothing\n",
    "        self.split = split\n",
    "        self.augment = augment\n",
    "          \n",
    "    def __len__(self):\n",
    "        return len(self.paths)\n",
    "    \n",
    "    def __getitem__(self, index):\n",
    "        scan_id = self.paths[index]\n",
    "        if self.targets is None:\n",
    "            data = load_dicom_images_3d(str(scan_id).zfill(5), mri_type=self.mri_type[index], split=self.split)\n",
    "        else:\n",
    "            if self.augment:\n",
    "                rotation = np.random.randint(0,4)\n",
    "            else:\n",
    "                rotation = 0\n",
    "\n",
    "            data = load_dicom_images_3d(str(scan_id).zfill(5), mri_type=self.mri_type[index], split=\"train\", rotate=rotation)\n",
    "\n",
    "        if self.targets is None:\n",
    "            return {\"X\": torch.tensor(data).float(), \"id\": scan_id}\n",
    "        else:\n",
    "            y = torch.tensor(abs(self.targets[index]-self.label_smoothing), dtype=torch.float)\n",
    "            return {\"X\": torch.tensor(data).float(), \"y\": y}\n"
   ]
  },
  {
   "cell_type": "code",
   "execution_count": 102,
   "metadata": {
    "collapsed": false,
    "ExecuteTime": {
     "end_time": "2023-11-10T03:41:45.541601763Z",
     "start_time": "2023-11-10T03:41:45.538090939Z"
    }
   },
   "outputs": [],
   "source": [
    "class Model(nn.Module):\n",
    "    def __init__(self):\n",
    "        super().__init__()\n",
    "        self.net = EfficientNet3D.from_name(\"efficientnet-b0\", override_params={'num_classes': 2}, in_channels=1)\n",
    "        n_features = self.net._fc.in_features\n",
    "        self.net._fc = nn.Linear(in_features=n_features, out_features=1, bias=True)\n",
    "    \n",
    "    def forward(self, x):\n",
    "        out = self.net(x)\n",
    "        return out\n",
    "    "
   ]
  },
  {
   "cell_type": "code",
   "execution_count": 103,
   "metadata": {
    "collapsed": false,
    "ExecuteTime": {
     "end_time": "2023-11-10T03:41:45.541835739Z",
     "start_time": "2023-11-10T03:41:45.538107237Z"
    }
   },
   "outputs": [],
   "source": [
    "class Trainer:\n",
    "    def __init__(\n",
    "        self, \n",
    "        model, \n",
    "        device, \n",
    "        optimizer, \n",
    "        criterion\n",
    "    ):\n",
    "        self.model = model\n",
    "        self.device = device\n",
    "        self.optimizer = optimizer\n",
    "        self.criterion = criterion\n",
    "\n",
    "        self.best_valid_score = np.inf\n",
    "        self.n_patience = 0\n",
    "        self.lastmodel = None\n",
    "        \n",
    "    def fit(self, epochs, train_loader, valid_loader, save_path, patience):        \n",
    "        for n_epoch in range(1, epochs + 1):\n",
    "            self.info_message(\"EPOCH: {}\", n_epoch)\n",
    "            \n",
    "            train_loss, train_time = self.train_epoch(train_loader)\n",
    "            valid_loss, valid_auc, valid_time = self.valid_epoch(valid_loader)\n",
    "            \n",
    "            self.info_message(\n",
    "                \"[Epoch Train: {}] loss: {:.4f}, time: {:.2f} s            \",\n",
    "                n_epoch, train_loss, train_time\n",
    "            )\n",
    "            \n",
    "            self.info_message(\n",
    "                \"[Epoch Valid: {}] loss: {:.4f}, auc: {:.4f}, time: {:.2f} s\",\n",
    "                n_epoch, valid_loss, valid_auc, valid_time\n",
    "            )\n",
    "\n",
    "            # if True:\n",
    "            #if self.best_valid_score < valid_auc: \n",
    "            if self.best_valid_score > valid_loss: \n",
    "                self.save_model(n_epoch, save_path, valid_loss, valid_auc)\n",
    "                self.info_message(\n",
    "                     \"auc improved from {:.4f} to {:.4f}. Saved model to '{}'\", \n",
    "                    self.best_valid_score, valid_loss, self.lastmodel\n",
    "                )\n",
    "                self.best_valid_score = valid_loss\n",
    "                self.n_patience = 0\n",
    "            else:\n",
    "                self.n_patience += 1\n",
    "            \n",
    "            if self.n_patience >= patience:\n",
    "                self.info_message(\"\\nValid auc didn't improve last {} epochs.\", patience)\n",
    "                break\n",
    "            \n",
    "    def train_epoch(self, train_loader):\n",
    "        self.model.train()\n",
    "        t = time.time()\n",
    "        sum_loss = 0\n",
    "\n",
    "        for step, batch in enumerate(train_loader, 1):\n",
    "            X = batch[\"X\"].to(self.device)\n",
    "            targets = batch[\"y\"].to(self.device)\n",
    "            self.optimizer.zero_grad()\n",
    "            outputs = self.model(X).squeeze(1)\n",
    "            \n",
    "            loss = self.criterion(outputs, targets)\n",
    "            loss.backward()\n",
    "\n",
    "            sum_loss += loss.detach().item()\n",
    "\n",
    "            self.optimizer.step()\n",
    "            \n",
    "            message = 'Train Step {}/{}, train_loss: {:.4f}'\n",
    "            self.info_message(message, step, len(train_loader), sum_loss/step, end=\"\\r\")\n",
    "        \n",
    "        return sum_loss/len(train_loader), int(time.time() - t)\n",
    "    \n",
    "    def valid_epoch(self, valid_loader):\n",
    "        self.model.eval()\n",
    "        t = time.time()\n",
    "        sum_loss = 0\n",
    "        y_all = []\n",
    "        outputs_all = []\n",
    "\n",
    "        for step, batch in enumerate(valid_loader, 1):\n",
    "            with torch.no_grad():\n",
    "                X = batch[\"X\"].to(self.device)\n",
    "                targets = batch[\"y\"].to(self.device)\n",
    "\n",
    "                outputs = self.model(X).squeeze(1)\n",
    "                loss = self.criterion(outputs, targets)\n",
    "\n",
    "                sum_loss += loss.detach().item()\n",
    "                y_all.extend(batch[\"y\"].tolist())\n",
    "                outputs_all.extend(torch.sigmoid(outputs).tolist())\n",
    "\n",
    "            message = 'Valid Step {}/{}, valid_loss: {:.4f}'\n",
    "            self.info_message(message, step, len(valid_loader), sum_loss/step, end=\"\\r\")\n",
    "            \n",
    "        y_all = [1 if x > 0.5 else 0 for x in y_all]\n",
    "        auc = roc_auc_score(y_all, outputs_all)\n",
    "        \n",
    "        return sum_loss/len(valid_loader), auc, int(time.time() - t)\n",
    "    \n",
    "    def save_model(self, n_epoch, save_path, loss, auc):\n",
    "        self.lastmodel = f\"{save_path}-e{n_epoch}-loss{loss:.3f}-auc{auc:.3f}.pth\"\n",
    "        torch.save(\n",
    "            {\n",
    "                \"model_state_dict\": self.model.state_dict(),\n",
    "                \"optimizer_state_dict\": self.optimizer.state_dict(),\n",
    "                \"best_valid_score\": self.best_valid_score,\n",
    "                \"n_epoch\": n_epoch,\n",
    "            },\n",
    "            self.lastmodel,\n",
    "        )\n",
    "    \n",
    "    @staticmethod\n",
    "    def info_message(message, *args, end=\"\\n\"):\n",
    "        print(message.format(*args), end=end)"
   ]
  },
  {
   "cell_type": "code",
   "execution_count": 104,
   "metadata": {
    "collapsed": false,
    "ExecuteTime": {
     "end_time": "2023-11-10T04:44:42.312499647Z",
     "start_time": "2023-11-10T03:41:45.538135134Z"
    }
   },
   "outputs": [
    {
     "name": "stdout",
     "output_type": "stream",
     "text": [
      "(468, 3) (117, 3)\n"
     ]
    },
    {
     "name": "stderr",
     "output_type": "stream",
     "text": [
      "/usr/lib/python3/dist-packages/pandas/core/indexing.py:1667: SettingWithCopyWarning: \n",
      "A value is trying to be set on a copy of a slice from a DataFrame.\n",
      "Try using .loc[row_indexer,col_indexer] = value instead\n",
      "\n",
      "See the caveats in the documentation: https://pandas.pydata.org/pandas-docs/stable/user_guide/indexing.html#returning-a-view-versus-a-copy\n",
      "  self.obj[key] = value\n"
     ]
    },
    {
     "data": {
      "text/plain": "     BraTS21ID  MGMT_value MRI_Type\n446        645           0    FLAIR\n529        777           1    FLAIR\n420        607           1    FLAIR\n406        589           0    FLAIR\n475        690           1    FLAIR",
      "text/html": "<div>\n<style scoped>\n    .dataframe tbody tr th:only-of-type {\n        vertical-align: middle;\n    }\n\n    .dataframe tbody tr th {\n        vertical-align: top;\n    }\n\n    .dataframe thead th {\n        text-align: right;\n    }\n</style>\n<table border=\"1\" class=\"dataframe\">\n  <thead>\n    <tr style=\"text-align: right;\">\n      <th></th>\n      <th>BraTS21ID</th>\n      <th>MGMT_value</th>\n      <th>MRI_Type</th>\n    </tr>\n  </thead>\n  <tbody>\n    <tr>\n      <th>446</th>\n      <td>645</td>\n      <td>0</td>\n      <td>FLAIR</td>\n    </tr>\n    <tr>\n      <th>529</th>\n      <td>777</td>\n      <td>1</td>\n      <td>FLAIR</td>\n    </tr>\n    <tr>\n      <th>420</th>\n      <td>607</td>\n      <td>1</td>\n      <td>FLAIR</td>\n    </tr>\n    <tr>\n      <th>406</th>\n      <td>589</td>\n      <td>0</td>\n      <td>FLAIR</td>\n    </tr>\n    <tr>\n      <th>475</th>\n      <td>690</td>\n      <td>1</td>\n      <td>FLAIR</td>\n    </tr>\n  </tbody>\n</table>\n</div>"
     },
     "metadata": {},
     "output_type": "display_data"
    },
    {
     "name": "stdout",
     "output_type": "stream",
     "text": [
      "EPOCH: 1\n",
      "[Epoch Train: 1] loss: 0.7682, time: 57.00 s            alid_loss: 0.6901Valid Step 9/30, valid_loss: 0.6920Valid Step 11/30, valid_loss: 0.6935Valid Step 15/30, valid_loss: 0.6926Valid Step 17/30, valid_loss: 0.6927Valid Step 19/30, valid_loss: 0.6928Valid Step 25/30, valid_loss: 0.6935Valid Step 27/30, valid_loss: 0.6935\n",
      "[Epoch Valid: 1] loss: 0.6940, auc: 0.5184, time: 45.00 s\n",
      "auc improved from inf to 0.6940. Saved model to 'FLAIR-e1-loss0.694-auc0.518.pth'\n",
      "EPOCH: 2\n",
      "[Epoch Train: 2] loss: 0.7132, time: 128.00 s            lid_loss: 0.7323Valid Step 8/30, valid_loss: 0.6856Valid Step 10/30, valid_loss: 0.6950Valid Step 17/30, valid_loss: 0.6975Valid Step 25/30, valid_loss: 0.7012\n",
      "[Epoch Valid: 2] loss: 0.7033, auc: 0.4434, time: 40.00 s\n",
      "EPOCH: 3\n",
      "[Epoch Train: 3] loss: 0.7009, time: 102.00 s            lid_loss: 0.7048Valid Step 11/30, valid_loss: 0.6990Valid Step 17/30, valid_loss: 0.7021Valid Step 25/30, valid_loss: 0.6990\n",
      "[Epoch Valid: 3] loss: 0.6972, auc: 0.6063, time: 54.00 s\n",
      "EPOCH: 4\n",
      "[Epoch Train: 4] loss: 0.7065, time: 124.00 s            lid_loss: 0.7141Valid Step 7/30, valid_loss: 0.7551Valid Step 9/30, valid_loss: 0.7497Valid Step 12/30, valid_loss: 0.7355Valid Step 20/30, valid_loss: 0.7406Valid Step 28/30, valid_loss: 0.7226\n",
      "[Epoch Valid: 4] loss: 0.7251, auc: 0.4315, time: 50.00 s\n",
      "EPOCH: 5\n",
      "[Epoch Train: 5] loss: 0.7046, time: 124.00 s            lid_loss: 0.6884Valid Step 9/30, valid_loss: 0.7085Valid Step 13/30, valid_loss: 0.7788Valid Step 15/30, valid_loss: 0.7942Valid Step 17/30, valid_loss: 0.7981Valid Step 25/30, valid_loss: 0.8127\n",
      "[Epoch Valid: 5] loss: 0.7946, auc: 0.4909, time: 48.00 s\n",
      "EPOCH: 6\n",
      "[Epoch Train: 6] loss: 0.6945, time: 119.00 s            lid_loss: 0.6187Valid Step 9/30, valid_loss: 0.6889Valid Step 11/30, valid_loss: 0.6902Valid Step 18/30, valid_loss: 0.7208Valid Step 27/30, valid_loss: 0.7082\n",
      "[Epoch Valid: 6] loss: 0.7047, auc: 0.6025, time: 46.00 s\n",
      "EPOCH: 7\n",
      "[Epoch Train: 7] loss: 0.6940, time: 141.00 s            lid_loss: 0.7241Valid Step 5/30, valid_loss: 0.6517Valid Step 8/30, valid_loss: 0.7477Valid Step 10/30, valid_loss: 0.7395Valid Step 18/30, valid_loss: 0.9992Valid Step 24/30, valid_loss: 1.0516Valid Step 26/30, valid_loss: 1.0339\n",
      "[Epoch Valid: 7] loss: 1.0334, auc: 0.5176, time: 45.00 s\n",
      "EPOCH: 8\n",
      "[Epoch Train: 8] loss: 0.7050, time: 132.00 s            lid_loss: 0.7020Valid Step 9/30, valid_loss: 0.6965Valid Step 15/30, valid_loss: 0.6962Valid Step 17/30, valid_loss: 0.6974Valid Step 23/30, valid_loss: 0.6956Valid Step 25/30, valid_loss: 0.6971\n",
      "[Epoch Valid: 8] loss: 0.6957, auc: 0.4407, time: 39.00 s\n",
      "EPOCH: 9\n",
      "[Epoch Train: 9] loss: 0.7016, time: 132.00 s            lid_loss: 0.6658Valid Step 9/30, valid_loss: 0.6945Valid Step 11/30, valid_loss: 0.6926Valid Step 17/30, valid_loss: 0.8630Valid Step 25/30, valid_loss: 0.8633Valid Step 27/30, valid_loss: 0.8505\n",
      "[Epoch Valid: 9] loss: 0.8339, auc: 0.4046, time: 36.00 s\n",
      "EPOCH: 10\n",
      "[Epoch Train: 10] loss: 0.6960, time: 123.00 s            id_loss: 0.7059Valid Step 4/30, valid_loss: 0.6399Valid Step 6/30, valid_loss: 0.6711Valid Step 9/30, valid_loss: 0.6894Valid Step 11/30, valid_loss: 0.6950Valid Step 14/30, valid_loss: 0.6914Valid Step 17/30, valid_loss: 0.6990Valid Step 19/30, valid_loss: 0.7020Valid Step 26/30, valid_loss: 0.7273\n",
      "[Epoch Valid: 10] loss: 0.7354, auc: 0.4982, time: 44.00 s\n",
      "(468, 3) (117, 3)\n"
     ]
    },
    {
     "name": "stderr",
     "output_type": "stream",
     "text": [
      "/usr/lib/python3/dist-packages/pandas/core/indexing.py:1817: SettingWithCopyWarning: \n",
      "A value is trying to be set on a copy of a slice from a DataFrame.\n",
      "Try using .loc[row_indexer,col_indexer] = value instead\n",
      "\n",
      "See the caveats in the documentation: https://pandas.pydata.org/pandas-docs/stable/user_guide/indexing.html#returning-a-view-versus-a-copy\n",
      "  self._setitem_single_column(loc, value, pi)\n"
     ]
    },
    {
     "data": {
      "text/plain": "     BraTS21ID  MGMT_value MRI_Type\n446        645           0      T1w\n529        777           1      T1w\n420        607           1      T1w\n406        589           0      T1w\n475        690           1      T1w",
      "text/html": "<div>\n<style scoped>\n    .dataframe tbody tr th:only-of-type {\n        vertical-align: middle;\n    }\n\n    .dataframe tbody tr th {\n        vertical-align: top;\n    }\n\n    .dataframe thead th {\n        text-align: right;\n    }\n</style>\n<table border=\"1\" class=\"dataframe\">\n  <thead>\n    <tr style=\"text-align: right;\">\n      <th></th>\n      <th>BraTS21ID</th>\n      <th>MGMT_value</th>\n      <th>MRI_Type</th>\n    </tr>\n  </thead>\n  <tbody>\n    <tr>\n      <th>446</th>\n      <td>645</td>\n      <td>0</td>\n      <td>T1w</td>\n    </tr>\n    <tr>\n      <th>529</th>\n      <td>777</td>\n      <td>1</td>\n      <td>T1w</td>\n    </tr>\n    <tr>\n      <th>420</th>\n      <td>607</td>\n      <td>1</td>\n      <td>T1w</td>\n    </tr>\n    <tr>\n      <th>406</th>\n      <td>589</td>\n      <td>0</td>\n      <td>T1w</td>\n    </tr>\n    <tr>\n      <th>475</th>\n      <td>690</td>\n      <td>1</td>\n      <td>T1w</td>\n    </tr>\n  </tbody>\n</table>\n</div>"
     },
     "metadata": {},
     "output_type": "display_data"
    },
    {
     "name": "stdout",
     "output_type": "stream",
     "text": [
      "EPOCH: 1\n",
      "[Epoch Train: 1] loss: 0.7461, time: 138.00 s            lid_loss: 0.7239Valid Step 5/30, valid_loss: 0.6884Valid Step 8/30, valid_loss: 0.6858Valid Step 11/30, valid_loss: 0.6985Valid Step 13/30, valid_loss: 0.6985Valid Step 17/30, valid_loss: 0.6955Valid Step 20/30, valid_loss: 0.6934Valid Step 23/30, valid_loss: 0.7007Valid Step 25/30, valid_loss: 0.6985Valid Step 28/30, valid_loss: 0.7003\n",
      "[Epoch Valid: 1] loss: 0.7002, auc: 0.4737, time: 37.00 s\n",
      "auc improved from inf to 0.7002. Saved model to 'T1w-e1-loss0.700-auc0.474.pth'\n",
      "EPOCH: 2\n",
      "[Epoch Train: 2] loss: 0.7172, time: 149.00 s            lid_loss: 0.7014Valid Step 9/30, valid_loss: 0.6995Valid Step 12/30, valid_loss: 0.6956Valid Step 14/30, valid_loss: 0.6981Valid Step 17/30, valid_loss: 0.6977Valid Step 19/30, valid_loss: 0.6975Valid Step 22/30, valid_loss: 0.6956Valid Step 25/30, valid_loss: 0.6956Valid Step 28/30, valid_loss: 0.6944\n",
      "[Epoch Valid: 2] loss: 0.6945, auc: 0.5181, time: 40.00 s\n",
      "auc improved from 0.7002 to 0.6945. Saved model to 'T1w-e2-loss0.694-auc0.518.pth'\n",
      "EPOCH: 3\n",
      "[Epoch Train: 3] loss: 0.6992, time: 140.00 s            lid_loss: 0.6797Valid Step 4/30, valid_loss: 0.7028Valid Step 9/30, valid_loss: 0.6985Valid Step 12/30, valid_loss: 0.6951Valid Step 14/30, valid_loss: 0.6973Valid Step 17/30, valid_loss: 0.6969Valid Step 20/30, valid_loss: 0.6982Valid Step 26/30, valid_loss: 0.6939Valid Step 28/30, valid_loss: 0.6940\n",
      "[Epoch Valid: 3] loss: 0.6941, auc: 0.4718, time: 42.00 s\n",
      "auc improved from 0.6945 to 0.6941. Saved model to 'T1w-e3-loss0.694-auc0.472.pth'\n",
      "EPOCH: 4\n",
      "[Epoch Train: 4] loss: 0.6994, time: 138.00 s            lid_loss: 0.7109Valid Step 5/30, valid_loss: 0.7062Valid Step 9/30, valid_loss: 0.6901Valid Step 13/30, valid_loss: 0.6899Valid Step 17/30, valid_loss: 0.6922Valid Step 21/30, valid_loss: 0.6989Valid Step 25/30, valid_loss: 0.6944Valid Step 29/30, valid_loss: 0.6911\n",
      "[Epoch Valid: 4] loss: 0.6928, auc: 0.5875, time: 42.00 s\n",
      "auc improved from 0.6941 to 0.6928. Saved model to 'T1w-e4-loss0.693-auc0.588.pth'\n",
      "EPOCH: 5\n",
      "[Epoch Train: 5] loss: 0.7016, time: 140.00 s            lid_loss: 12.6157Valid Step 9/30, valid_loss: 4.3949Valid Step 11/30, valid_loss: 4.5413Valid Step 17/30, valid_loss: 3.4374Valid Step 23/30, valid_loss: 3.3990Valid Step 25/30, valid_loss: 3.4116\n",
      "[Epoch Valid: 5] loss: 3.4394, auc: 0.4368, time: 38.00 s\n",
      "EPOCH: 6\n",
      "[Epoch Train: 6] loss: 0.7013, time: 133.00 s            lid_loss: 0.8201Valid Step 6/30, valid_loss: 1.0317Valid Step 9/30, valid_loss: 0.9730Valid Step 17/30, valid_loss: 1.2712Valid Step 25/30, valid_loss: 1.6337\n",
      "[Epoch Valid: 6] loss: 1.5300, auc: 0.4903, time: 9.00 s\n",
      "EPOCH: 7\n",
      "[Epoch Train: 7] loss: 0.6945, time: 42.00 s            alid_loss: 9.1355Valid Step 14/30, valid_loss: 9.6623Valid Step 17/30, valid_loss: 9.5152Valid Step 25/30, valid_loss: 10.4231\n",
      "[Epoch Valid: 7] loss: 9.9006, auc: 0.4754, time: 6.00 s\n",
      "EPOCH: 8\n",
      "[Epoch Train: 8] loss: 0.7045, time: 48.00 s            alid_loss: 0.9059Valid Step 8/30, valid_loss: 1.1161Valid Step 10/30, valid_loss: 1.3215Valid Step 13/30, valid_loss: 1.2630Valid Step 17/30, valid_loss: 1.3050Valid Step 25/30, valid_loss: 1.4538\n",
      "[Epoch Valid: 8] loss: 1.4169, auc: 0.4754, time: 18.00 s\n",
      "EPOCH: 9\n",
      "[Epoch Train: 9] loss: 0.7159, time: 41.00 s            alid_loss: 0.6672Valid Step 9/30, valid_loss: 0.7550Valid Step 11/30, valid_loss: 0.7980Valid Step 17/30, valid_loss: 0.7821Valid Step 19/30, valid_loss: 0.8335Valid Step 25/30, valid_loss: 0.8096Valid Step 27/30, valid_loss: 0.8039\n",
      "[Epoch Valid: 9] loss: 0.7903, auc: 0.5624, time: 8.00 s\n",
      "EPOCH: 10\n",
      "[Epoch Train: 10] loss: 0.7041, time: 47.00 s            lid_loss: 0.6690Valid Step 10/30, valid_loss: 0.9159Valid Step 16/30, valid_loss: 1.2960Valid Step 18/30, valid_loss: 1.4324Valid Step 23/30, valid_loss: 1.3869Valid Step 26/30, valid_loss: 1.3288Valid Step 29/30, valid_loss: 1.3763\n",
      "[Epoch Valid: 10] loss: 1.3419, auc: 0.5056, time: 11.00 s\n",
      "(468, 3) (117, 3)\n"
     ]
    },
    {
     "name": "stderr",
     "output_type": "stream",
     "text": [
      "/usr/lib/python3/dist-packages/pandas/core/indexing.py:1817: SettingWithCopyWarning: \n",
      "A value is trying to be set on a copy of a slice from a DataFrame.\n",
      "Try using .loc[row_indexer,col_indexer] = value instead\n",
      "\n",
      "See the caveats in the documentation: https://pandas.pydata.org/pandas-docs/stable/user_guide/indexing.html#returning-a-view-versus-a-copy\n",
      "  self._setitem_single_column(loc, value, pi)\n"
     ]
    },
    {
     "data": {
      "text/plain": "     BraTS21ID  MGMT_value MRI_Type\n446        645           0    T1wCE\n529        777           1    T1wCE\n420        607           1    T1wCE\n406        589           0    T1wCE\n475        690           1    T1wCE",
      "text/html": "<div>\n<style scoped>\n    .dataframe tbody tr th:only-of-type {\n        vertical-align: middle;\n    }\n\n    .dataframe tbody tr th {\n        vertical-align: top;\n    }\n\n    .dataframe thead th {\n        text-align: right;\n    }\n</style>\n<table border=\"1\" class=\"dataframe\">\n  <thead>\n    <tr style=\"text-align: right;\">\n      <th></th>\n      <th>BraTS21ID</th>\n      <th>MGMT_value</th>\n      <th>MRI_Type</th>\n    </tr>\n  </thead>\n  <tbody>\n    <tr>\n      <th>446</th>\n      <td>645</td>\n      <td>0</td>\n      <td>T1wCE</td>\n    </tr>\n    <tr>\n      <th>529</th>\n      <td>777</td>\n      <td>1</td>\n      <td>T1wCE</td>\n    </tr>\n    <tr>\n      <th>420</th>\n      <td>607</td>\n      <td>1</td>\n      <td>T1wCE</td>\n    </tr>\n    <tr>\n      <th>406</th>\n      <td>589</td>\n      <td>0</td>\n      <td>T1wCE</td>\n    </tr>\n    <tr>\n      <th>475</th>\n      <td>690</td>\n      <td>1</td>\n      <td>T1wCE</td>\n    </tr>\n  </tbody>\n</table>\n</div>"
     },
     "metadata": {},
     "output_type": "display_data"
    },
    {
     "name": "stdout",
     "output_type": "stream",
     "text": [
      "EPOCH: 1\n",
      "[Epoch Train: 1] loss: 0.7521, time: 27.00 s            alid_loss: 0.6926Valid Step 6/30, valid_loss: 0.6929Valid Step 8/30, valid_loss: 0.6928Valid Step 11/30, valid_loss: 0.6932Valid Step 17/30, valid_loss: 0.6931Valid Step 20/30, valid_loss: 0.6930Valid Step 25/30, valid_loss: 0.6932Valid Step 27/30, valid_loss: 0.6932\n",
      "[Epoch Valid: 1] loss: 0.6932, auc: 0.5092, time: 10.00 s\n",
      "auc improved from inf to 0.6932. Saved model to 'T1wCE-e1-loss0.693-auc0.509.pth'\n",
      "EPOCH: 2\n",
      "[Epoch Train: 2] loss: 0.7110, time: 35.00 s            alid_loss: 0.7002Valid Step 8/30, valid_loss: 0.6902Valid Step 10/30, valid_loss: 0.6922Valid Step 12/30, valid_loss: 0.6935Valid Step 17/30, valid_loss: 0.6927Valid Step 26/30, valid_loss: 0.6940\n",
      "[Epoch Valid: 2] loss: 0.6940, auc: 0.4734, time: 12.00 s\n",
      "EPOCH: 3\n",
      "[Epoch Train: 3] loss: 0.7028, time: 37.00 s            alid_loss: 0.6898Valid Step 8/30, valid_loss: 0.6887Valid Step 14/30, valid_loss: 0.6926Valid Step 17/30, valid_loss: 0.6928Valid Step 22/30, valid_loss: 0.6941Valid Step 25/30, valid_loss: 0.6941\n",
      "[Epoch Valid: 3] loss: 0.6948, auc: 0.4008, time: 9.00 s\n",
      "EPOCH: 4\n",
      "[Epoch Train: 4] loss: 0.6956, time: 36.00 s            alid_loss: 0.6934Valid Step 7/30, valid_loss: 0.6914Valid Step 9/30, valid_loss: 0.6918Valid Step 11/30, valid_loss: 0.6922Valid Step 17/30, valid_loss: 0.6927Valid Step 22/30, valid_loss: 0.6931Valid Step 26/30, valid_loss: 0.6934\n",
      "[Epoch Valid: 4] loss: 0.6934, auc: 0.4274, time: 7.00 s\n",
      "EPOCH: 5\n",
      "[Epoch Train: 5] loss: 0.7039, time: 33.00 s            alid_loss: 0.6980Valid Step 9/30, valid_loss: 0.6970Valid Step 14/30, valid_loss: 0.6962Valid Step 17/30, valid_loss: 0.6956Valid Step 25/30, valid_loss: 0.6950Valid Step 28/30, valid_loss: 0.6947\n",
      "[Epoch Valid: 5] loss: 0.6938, auc: 0.4511, time: 12.00 s\n",
      "EPOCH: 6\n",
      "[Epoch Train: 6] loss: 0.7012, time: 42.00 s            alid_loss: 0.8095Valid Step 9/30, valid_loss: 0.8444Valid Step 11/30, valid_loss: 0.9264Valid Step 17/30, valid_loss: 1.0038Valid Step 19/30, valid_loss: 0.9990Valid Step 25/30, valid_loss: 1.0844Valid Step 27/30, valid_loss: 1.0985\n",
      "[Epoch Valid: 6] loss: 1.1869, auc: 0.5076, time: 11.00 s\n",
      "EPOCH: 7\n",
      "[Epoch Train: 7] loss: 0.6950, time: 48.00 s            alid_loss: 0.7415Valid Step 5/30, valid_loss: 0.7679Valid Step 9/30, valid_loss: 0.7801Valid Step 14/30, valid_loss: 0.7459Valid Step 18/30, valid_loss: 0.7440Valid Step 21/30, valid_loss: 0.7473Valid Step 24/30, valid_loss: 0.7345Valid Step 26/30, valid_loss: 0.7283Valid Step 29/30, valid_loss: 0.7129\n",
      "[Epoch Valid: 7] loss: 0.7129, auc: 0.5416, time: 10.00 s\n",
      "EPOCH: 8\n",
      "[Epoch Train: 8] loss: 0.6931, time: 37.00 s            alid_loss: 0.7797Valid Step 8/30, valid_loss: 0.7936Valid Step 10/30, valid_loss: 0.7818Valid Step 14/30, valid_loss: 0.7631Valid Step 17/30, valid_loss: 0.7420Valid Step 22/30, valid_loss: 0.7259Valid Step 25/30, valid_loss: 0.7290\n",
      "[Epoch Valid: 8] loss: 0.7284, auc: 0.4461, time: 7.00 s\n",
      "EPOCH: 9\n",
      "[Epoch Train: 9] loss: 0.6966, time: 37.00 s            alid_loss: 1.1620Valid Step 9/30, valid_loss: 1.2472Valid Step 17/30, valid_loss: 1.1484Valid Step 25/30, valid_loss: 1.0480Valid Step 29/30, valid_loss: 1.0045\n",
      "[Epoch Valid: 9] loss: 0.9992, auc: 0.4274, time: 15.00 s\n",
      "EPOCH: 10\n",
      "[Epoch Train: 10] loss: 0.6851, time: 42.00 s            lid_loss: 0.6924Valid Step 6/30, valid_loss: 0.6565Valid Step 8/30, valid_loss: 0.6493Valid Step 11/30, valid_loss: 0.6510Valid Step 14/30, valid_loss: 0.6590Valid Step 16/30, valid_loss: 0.6990Valid Step 18/30, valid_loss: 0.7251Valid Step 23/30, valid_loss: 0.7159Valid Step 26/30, valid_loss: 0.7228\n",
      "[Epoch Valid: 10] loss: 0.7195, auc: 0.4637, time: 14.00 s\n",
      "(468, 3) (117, 3)\n"
     ]
    },
    {
     "name": "stderr",
     "output_type": "stream",
     "text": [
      "/usr/lib/python3/dist-packages/pandas/core/indexing.py:1817: SettingWithCopyWarning: \n",
      "A value is trying to be set on a copy of a slice from a DataFrame.\n",
      "Try using .loc[row_indexer,col_indexer] = value instead\n",
      "\n",
      "See the caveats in the documentation: https://pandas.pydata.org/pandas-docs/stable/user_guide/indexing.html#returning-a-view-versus-a-copy\n",
      "  self._setitem_single_column(loc, value, pi)\n"
     ]
    },
    {
     "data": {
      "text/plain": "     BraTS21ID  MGMT_value MRI_Type\n446        645           0      T2w\n529        777           1      T2w\n420        607           1      T2w\n406        589           0      T2w\n475        690           1      T2w",
      "text/html": "<div>\n<style scoped>\n    .dataframe tbody tr th:only-of-type {\n        vertical-align: middle;\n    }\n\n    .dataframe tbody tr th {\n        vertical-align: top;\n    }\n\n    .dataframe thead th {\n        text-align: right;\n    }\n</style>\n<table border=\"1\" class=\"dataframe\">\n  <thead>\n    <tr style=\"text-align: right;\">\n      <th></th>\n      <th>BraTS21ID</th>\n      <th>MGMT_value</th>\n      <th>MRI_Type</th>\n    </tr>\n  </thead>\n  <tbody>\n    <tr>\n      <th>446</th>\n      <td>645</td>\n      <td>0</td>\n      <td>T2w</td>\n    </tr>\n    <tr>\n      <th>529</th>\n      <td>777</td>\n      <td>1</td>\n      <td>T2w</td>\n    </tr>\n    <tr>\n      <th>420</th>\n      <td>607</td>\n      <td>1</td>\n      <td>T2w</td>\n    </tr>\n    <tr>\n      <th>406</th>\n      <td>589</td>\n      <td>0</td>\n      <td>T2w</td>\n    </tr>\n    <tr>\n      <th>475</th>\n      <td>690</td>\n      <td>1</td>\n      <td>T2w</td>\n    </tr>\n  </tbody>\n</table>\n</div>"
     },
     "metadata": {},
     "output_type": "display_data"
    },
    {
     "name": "stdout",
     "output_type": "stream",
     "text": [
      "EPOCH: 1\n",
      "[Epoch Train: 1] loss: 0.7779, time: 28.00 s            alid_loss: 0.6867Valid Step 7/30, valid_loss: 0.6955Valid Step 9/30, valid_loss: 0.6950Valid Step 17/30, valid_loss: 0.6943Valid Step 26/30, valid_loss: 0.6930\n",
      "[Epoch Valid: 1] loss: 0.6931, auc: 0.4795, time: 13.00 s\n",
      "auc improved from inf to 0.6931. Saved model to 'T2w-e1-loss0.693-auc0.480.pth'\n",
      "EPOCH: 2\n",
      "[Epoch Train: 2] loss: 0.7044, time: 27.00 s            alid_loss: 0.6695Valid Step 5/30, valid_loss: 0.7148Valid Step 9/30, valid_loss: 0.7091Valid Step 13/30, valid_loss: 0.7019Valid Step 15/30, valid_loss: 0.7062Valid Step 18/30, valid_loss: 0.7019Valid Step 20/30, valid_loss: 0.7083Valid Step 25/30, valid_loss: 0.7019Valid Step 28/30, valid_loss: 0.6995\n",
      "[Epoch Valid: 2] loss: 0.6997, auc: 0.5457, time: 6.00 s\n",
      "EPOCH: 3\n",
      "[Epoch Train: 3] loss: 0.7021, time: 24.00 s            alid_loss: 0.6978Valid Step 5/30, valid_loss: 0.6961Valid Step 9/30, valid_loss: 0.6949Valid Step 11/30, valid_loss: 0.6935Valid Step 17/30, valid_loss: 0.6942Valid Step 22/30, valid_loss: 0.6935Valid Step 25/30, valid_loss: 0.6935\n",
      "[Epoch Valid: 3] loss: 0.6931, auc: 0.5757, time: 6.00 s\n",
      "auc improved from 0.6931 to 0.6931. Saved model to 'T2w-e3-loss0.693-auc0.576.pth'\n",
      "EPOCH: 4\n",
      "[Epoch Train: 4] loss: 0.6931, time: 27.00 s            alid_loss: 0.6737Valid Step 5/30, valid_loss: 0.7024Valid Step 9/30, valid_loss: 0.6995Valid Step 16/30, valid_loss: 0.6963Valid Step 18/30, valid_loss: 0.6939Valid Step 21/30, valid_loss: 0.6962Valid Step 25/30, valid_loss: 0.6944Valid Step 28/30, valid_loss: 0.6930\n",
      "[Epoch Valid: 4] loss: 0.6926, auc: 0.5852, time: 7.00 s\n",
      "auc improved from 0.6931 to 0.6926. Saved model to 'T2w-e4-loss0.693-auc0.585.pth'\n",
      "EPOCH: 5\n",
      "[Epoch Train: 5] loss: 0.6978, time: 25.00 s            alid_loss: 32.9134Valid Step 7/30, valid_loss: 9.9415Valid Step 9/30, valid_loss: 7.8895Valid Step 17/30, valid_loss: 4.5130Valid Step 25/30, valid_loss: 11.5903\n",
      "[Epoch Valid: 5] loss: 9.7906, auc: 0.5465, time: 5.00 s\n",
      "EPOCH: 6\n",
      "[Epoch Train: 6] loss: 0.6934, time: 29.00 s            alid_loss: 0.8055Valid Step 9/30, valid_loss: 0.7614Valid Step 11/30, valid_loss: 0.7746Valid Step 18/30, valid_loss: 1.1491Valid Step 27/30, valid_loss: 1.1548\n",
      "[Epoch Valid: 6] loss: 1.1064, auc: 0.4526, time: 10.00 s\n",
      "EPOCH: 7\n",
      "[Epoch Train: 7] loss: 0.6997, time: 27.00 s            alid_loss: 1.2302Valid Step 5/30, valid_loss: 1.0935Valid Step 9/30, valid_loss: 1.2471Valid Step 15/30, valid_loss: 1.2518Valid Step 17/30, valid_loss: 1.2163Valid Step 24/30, valid_loss: 1.2680Valid Step 26/30, valid_loss: 1.2936Valid Step 29/30, valid_loss: 1.3381\n",
      "[Epoch Valid: 7] loss: 1.3023, auc: 0.4280, time: 7.00 s\n",
      "EPOCH: 8\n",
      "[Epoch Train: 8] loss: 0.6987, time: 29.00 s            alid_loss: 1.1683Valid Step 5/30, valid_loss: 0.8472Valid Step 9/30, valid_loss: 0.8328Valid Step 14/30, valid_loss: 0.7671Valid Step 17/30, valid_loss: 0.7867Valid Step 21/30, valid_loss: 0.8376Valid Step 25/30, valid_loss: 0.9331Valid Step 29/30, valid_loss: 0.9364\n",
      "[Epoch Valid: 8] loss: 0.9142, auc: 0.5515, time: 11.00 s\n",
      "EPOCH: 9\n",
      "[Epoch Train: 9] loss: 0.7042, time: 28.00 s            alid_loss: 7.9056Valid Step 7/30, valid_loss: 10.2415Valid Step 9/30, valid_loss: 12.5010Valid Step 11/30, valid_loss: 11.7998Valid Step 17/30, valid_loss: 9.2091Valid Step 25/30, valid_loss: 11.5666\n",
      "[Epoch Valid: 9] loss: 10.0062, auc: 0.5916, time: 10.00 s\n",
      "EPOCH: 10\n",
      "[Epoch Train: 10] loss: 0.6994, time: 28.00 s            lid_loss: 1.0788Valid Step 9/30, valid_loss: 0.8759Valid Step 12/30, valid_loss: 0.8584Valid Step 17/30, valid_loss: 1.1144Valid Step 26/30, valid_loss: 1.3700\n",
      "[Epoch Valid: 10] loss: 1.4009, auc: 0.5457, time: 7.00 s\n",
      "['FLAIR-e1-loss0.694-auc0.518.pth', 'T1w-e4-loss0.693-auc0.588.pth', 'T1wCE-e1-loss0.693-auc0.509.pth', 'T2w-e4-loss0.693-auc0.585.pth']\n"
     ]
    }
   ],
   "source": [
    "device = torch.device(\"cuda\" if torch.cuda.is_available() else \"cpu\")\n",
    "\n",
    "def train_mri_type(df_train, df_valid, mri_type):\n",
    "    if mri_type==\"all\":\n",
    "        train_list = []\n",
    "        valid_list = []\n",
    "        for mri_type in mri_types:\n",
    "            df_train.loc[:,\"MRI_Type\"] = mri_type\n",
    "            train_list.append(df_train.copy())\n",
    "            df_valid.loc[:,\"MRI_Type\"] = mri_type\n",
    "            valid_list.append(df_valid.copy())\n",
    "\n",
    "        df_train = pd.concat(train_list)\n",
    "        df_valid = pd.concat(valid_list)\n",
    "    else:\n",
    "        df_train.loc[:,\"MRI_Type\"] = mri_type\n",
    "        df_valid.loc[:,\"MRI_Type\"] = mri_type\n",
    "\n",
    "    print(df_train.shape, df_valid.shape)\n",
    "    display(df_train.head())\n",
    "    \n",
    "    train_data_retriever = Dataset(\n",
    "        df_train[\"BraTS21ID\"].values, \n",
    "        df_train[\"MGMT_value\"].values, \n",
    "        df_train[\"MRI_Type\"].values,\n",
    "        augment=True\n",
    "    )\n",
    "\n",
    "    valid_data_retriever = Dataset(\n",
    "        df_valid[\"BraTS21ID\"].values, \n",
    "        df_valid[\"MGMT_value\"].values,\n",
    "        df_valid[\"MRI_Type\"].values\n",
    "    )\n",
    "\n",
    "    train_loader = torch_data.DataLoader(\n",
    "        train_data_retriever,\n",
    "        batch_size=4,\n",
    "        shuffle=True,\n",
    "        num_workers=8,pin_memory = True\n",
    "    )\n",
    "\n",
    "    valid_loader = torch_data.DataLoader(\n",
    "        valid_data_retriever, \n",
    "        batch_size=4,\n",
    "        shuffle=False,\n",
    "        num_workers=8,pin_memory = True\n",
    "    )\n",
    "\n",
    "    model = Model()\n",
    "    model.to(device)\n",
    "\n",
    "    #checkpoint = torch.load(\"best-model-all-auc0.555.pth\")\n",
    "    #model.load_state_dict(checkpoint[\"model_state_dict\"])\n",
    "\n",
    "    #print(model)\n",
    "\n",
    "    optimizer = torch.optim.Adam(model.parameters(), lr=0.001)\n",
    "    #optimizer = torch.optim.SGD(model.parameters(), lr=0.001, momentum=0.9)\n",
    "\n",
    "    criterion = torch_functional.binary_cross_entropy_with_logits\n",
    "\n",
    "    trainer = Trainer(\n",
    "        model, \n",
    "        device, \n",
    "        optimizer, \n",
    "        criterion\n",
    "    )\n",
    "\n",
    "    history = trainer.fit(\n",
    "        10, \n",
    "        train_loader, \n",
    "        valid_loader, \n",
    "        f\"{mri_type}\", \n",
    "        10,\n",
    "    )\n",
    "    \n",
    "    return trainer.lastmodel\n",
    "\n",
    "modelfiles = None\n",
    "\n",
    "if not modelfiles:\n",
    "    modelfiles = [train_mri_type(df_train, df_valid, m) for m in mri_types]\n",
    "    print(modelfiles)"
   ]
  },
  {
   "cell_type": "code",
   "execution_count": 105,
   "metadata": {
    "collapsed": false,
    "ExecuteTime": {
     "end_time": "2023-11-10T04:44:42.315358711Z",
     "start_time": "2023-11-10T04:44:42.313404430Z"
    }
   },
   "outputs": [],
   "source": [
    "def predict(modelfile, df, mri_type, split):\n",
    "    print(\"Predict:\", modelfile, mri_type, df.shape)\n",
    "    df.loc[:,\"MRI_Type\"] = mri_type\n",
    "    data_retriever = Dataset(\n",
    "        df.index.values, \n",
    "        mri_type=df[\"MRI_Type\"].values,\n",
    "        split=split\n",
    "    )\n",
    "\n",
    "    data_loader = torch_data.DataLoader(\n",
    "        data_retriever,\n",
    "        batch_size=4,\n",
    "        shuffle=False,\n",
    "        num_workers=8,\n",
    "    )\n",
    "   \n",
    "    model = Model()\n",
    "    model.to(device)\n",
    "    \n",
    "    checkpoint = torch.load(modelfile)\n",
    "    model.load_state_dict(checkpoint[\"model_state_dict\"])\n",
    "    model.eval()\n",
    "    \n",
    "    y_pred = []\n",
    "    ids = []\n",
    "\n",
    "    for e, batch in enumerate(data_loader,1):\n",
    "        print(f\"{e}/{len(data_loader)}\", end=\"\\r\")\n",
    "        with torch.no_grad():\n",
    "            tmp_pred = torch.sigmoid(model(batch[\"X\"].to(device))).cpu().numpy().squeeze()\n",
    "            if tmp_pred.size == 1:\n",
    "                y_pred.append(tmp_pred)\n",
    "            else:\n",
    "                y_pred.extend(tmp_pred.tolist())\n",
    "            ids.extend(batch[\"id\"].numpy().tolist())\n",
    "            \n",
    "    preddf = pd.DataFrame({\"BraTS21ID\": ids, \"MGMT_value\": y_pred}) \n",
    "    preddf = preddf.set_index(\"BraTS21ID\")\n",
    "    return preddf"
   ]
  },
  {
   "cell_type": "code",
   "execution_count": 106,
   "metadata": {
    "collapsed": false,
    "ExecuteTime": {
     "end_time": "2023-11-10T04:45:25.835191586Z",
     "start_time": "2023-11-10T04:44:42.316719994Z"
    }
   },
   "outputs": [
    {
     "name": "stdout",
     "output_type": "stream",
     "text": [
      "Predict: FLAIR-e1-loss0.694-auc0.518.pth FLAIR (117, 3)\n",
      "Predict: T1w-e4-loss0.693-auc0.588.pth T1w (117, 3)\n",
      "Predict: T1wCE-e1-loss0.693-auc0.509.pth T1wCE (117, 3)\n",
      "Predict: T2w-e4-loss0.693-auc0.585.pth T2w (117, 3)\n",
      "Validation ensemble AUC: 0.6300\n"
     ]
    },
    {
     "data": {
      "text/plain": "<Figure size 360x360 with 1 Axes>",
      "image/png": "[encoded data removed]"
     },
     "metadata": {},
     "output_type": "display_data"
    },
    {
     "data": {
      "text/plain": "<Figure size 576x432 with 1 Axes>",
      "image/png": "[encoded data removed]"
     },
     "metadata": {},
     "output_type": "display_data"
    }
   ],
   "source": [
    "df_valid = df_valid.set_index(\"BraTS21ID\")\n",
    "df_valid[\"MGMT_pred\"] = 0\n",
    "for m, mtype in zip(modelfiles,  mri_types):\n",
    "    pred = predict(m, df_valid, mtype, \"train\")\n",
    "    df_valid[\"MGMT_pred\"] += pred[\"MGMT_value\"]\n",
    "df_valid[\"MGMT_pred\"] /= len(modelfiles)\n",
    "r_auc = roc_auc_score(df_valid[\"MGMT_value\"], df_valid[\"MGMT_pred\"])\n",
    "print(f\"Validation ensemble AUC: {r_auc:.4f}\")\n",
    "sns.displot(df_valid[\"MGMT_pred\"])\n",
    "\n",
    "\n",
    "fpr, tpr, _ = roc_curve(df_valid[\"MGMT_value\"], df_valid[\"MGMT_pred\"])\n",
    "roc_auc = auc(fpr, tpr)\n",
    "\n",
    "\n",
    "import matplotlib.pyplot as plt\n",
    "\n",
    "# Plot the ROC curve\n",
    "plt.figure(figsize=(8, 6))\n",
    "plt.plot(fpr, tpr, color='darkorange', lw=2, label=f'ROC curve (area = {roc_auc:.2f})')\n",
    "plt.plot([0, 1], [0, 1], color='navy', lw=2, linestyle='--')\n",
    "plt.xlim([0.0, 1.0])\n",
    "plt.ylim([0.0, 1.05])\n",
    "plt.xlabel('False Positive Rate')\n",
    "plt.ylabel('True Positive Rate')\n",
    "plt.title('Receiver Operating Characteristic (ROC)')\n",
    "plt.legend(loc='lower right')\n",
    "plt.savefig(\"all_auc.png\")\n",
    "plt.show()\n"
   ]
  },
  {
   "cell_type": "code",
   "execution_count": 107,
   "metadata": {
    "collapsed": false,
    "ExecuteTime": {
     "end_time": "2023-11-10T04:45:57.887935837Z",
     "start_time": "2023-11-10T04:45:25.836915536Z"
    }
   },
   "outputs": [
    {
     "name": "stdout",
     "output_type": "stream",
     "text": [
      "Predict: FLAIR-e1-loss0.694-auc0.518.pth FLAIR (87, 1)\n",
      "Predict: T1w-e4-loss0.693-auc0.588.pth T1w (87, 2)\n",
      "Predict: T1wCE-e1-loss0.693-auc0.509.pth T1wCE (87, 2)\n",
      "Predict: T2w-e4-loss0.693-auc0.585.pth T2w (87, 2)\n",
      "22/22\r"
     ]
    }
   ],
   "source": [
    "submission = pd.read_csv(f\"{data_directory}/sample_submission.csv\", index_col=\"BraTS21ID\")\n",
    "\n",
    "submission[\"MGMT_value\"] = 0\n",
    "for m, mtype in zip(modelfiles, mri_types):\n",
    "    pred = predict(m, submission, mtype, split=\"test\")\n",
    "    submission[\"MGMT_value\"] += pred[\"MGMT_value\"]\n",
    "\n",
    "submission[\"MGMT_value\"] /= len(modelfiles)\n",
    "submission[\"MGMT_value\"].to_csv(\"submission.csv\")"
   ]
  },
  {
   "cell_type": "code",
   "execution_count": 108,
   "metadata": {
    "collapsed": false,
    "ExecuteTime": {
     "end_time": "2023-11-10T04:45:57.892990554Z",
     "start_time": "2023-11-10T04:45:57.890811492Z"
    }
   },
   "outputs": [
    {
     "data": {
      "text/plain": "           MGMT_value MRI_Type\nBraTS21ID                     \n1            0.520301      T2w\n13           0.532874      T2w\n15           0.520133      T2w\n27           0.524730      T2w\n37           0.532117      T2w\n...               ...      ...\n826          0.513239      T2w\n829          0.515676      T2w\n833          0.514426      T2w\n997          0.510720      T2w\n1006         0.517412      T2w\n\n[87 rows x 2 columns]",
      "text/html": "<div>\n<style scoped>\n    .dataframe tbody tr th:only-of-type {\n        vertical-align: middle;\n    }\n\n    .dataframe tbody tr th {\n        vertical-align: top;\n    }\n\n    .dataframe thead th {\n        text-align: right;\n    }\n</style>\n<table border=\"1\" class=\"dataframe\">\n  <thead>\n    <tr style=\"text-align: right;\">\n      <th></th>\n      <th>MGMT_value</th>\n      <th>MRI_Type</th>\n    </tr>\n    <tr>\n      <th>BraTS21ID</th>\n      <th></th>\n      <th></th>\n    </tr>\n  </thead>\n  <tbody>\n    <tr>\n      <th>1</th>\n      <td>0.520301</td>\n      <td>T2w</td>\n    </tr>\n    <tr>\n      <th>13</th>\n      <td>0.532874</td>\n      <td>T2w</td>\n    </tr>\n    <tr>\n      <th>15</th>\n      <td>0.520133</td>\n      <td>T2w</td>\n    </tr>\n    <tr>\n      <th>27</th>\n      <td>0.524730</td>\n      <td>T2w</td>\n    </tr>\n    <tr>\n      <th>37</th>\n      <td>0.532117</td>\n      <td>T2w</td>\n    </tr>\n    <tr>\n      <th>...</th>\n      <td>...</td>\n      <td>...</td>\n    </tr>\n    <tr>\n      <th>826</th>\n      <td>0.513239</td>\n      <td>T2w</td>\n    </tr>\n    <tr>\n      <th>829</th>\n      <td>0.515676</td>\n      <td>T2w</td>\n    </tr>\n    <tr>\n      <th>833</th>\n      <td>0.514426</td>\n      <td>T2w</td>\n    </tr>\n    <tr>\n      <th>997</th>\n      <td>0.510720</td>\n      <td>T2w</td>\n    </tr>\n    <tr>\n      <th>1006</th>\n      <td>0.517412</td>\n      <td>T2w</td>\n    </tr>\n  </tbody>\n</table>\n<p>87 rows × 2 columns</p>\n</div>"
     },
     "execution_count": 108,
     "metadata": {},
     "output_type": "execute_result"
    }
   ],
   "source": [
    "submission"
   ]
  },
  {
   "cell_type": "code",
   "execution_count": 109,
   "metadata": {
    "collapsed": false,
    "ExecuteTime": {
     "end_time": "2023-11-10T04:45:58.033867924Z",
     "start_time": "2023-11-10T04:45:57.897433087Z"
    }
   },
   "outputs": [
    {
     "data": {
      "text/plain": "<seaborn.axisgrid.FacetGrid at 0x7fa03a3f5ea0>"
     },
     "execution_count": 109,
     "metadata": {},
     "output_type": "execute_result"
    },
    {
     "data": {
      "text/plain": "<Figure size 360x360 with 1 Axes>",
      "image/png": "[encoded data removed]"
     },
     "metadata": {},
     "output_type": "display_data"
    }
   ],
   "source": [
    "sns.displot(submission[\"MGMT_value\"])"
   ]
  },
  {
   "cell_type": "code",
   "execution_count": 109,
   "metadata": {
    "ExecuteTime": {
     "end_time": "2023-11-10T04:45:58.035750105Z",
     "start_time": "2023-11-10T04:45:58.034449428Z"
    }
   },
   "outputs": [],
   "source": []
  }
 ],
 "metadata": {
  "kernelspec": {
   "display_name": "Python 3 (ipykernel)",
   "language": "python",
   "name": "python3"
  },
  "language_info": {
   "name": "python"
  }
 },
 "nbformat": 4,
 "nbformat_minor": 2
}
