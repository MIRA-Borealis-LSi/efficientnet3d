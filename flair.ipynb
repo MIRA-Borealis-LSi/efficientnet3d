{
 "cells": [
  {
   "cell_type": "code",
   "execution_count": 16,
   "metadata": {
    "ExecuteTime": {
     "end_time": "2023-11-10T03:24:36.153205204Z",
     "start_time": "2023-11-10T03:24:36.150850201Z"
    }
   },
   "outputs": [],
   "source": [
    "import os\n",
    "import sys \n",
    "import glob\n",
    "import random\n",
    "import time\n",
    "import re\n",
    "\n",
    "import numpy as np\n",
    "import pandas as pd\n",
    "import pydicom\n",
    "from pydicom.pixel_data_handlers.util import apply_voi_lut\n",
    "import cv2\n",
    "import matplotlib.pyplot as plt\n",
    "import seaborn as sns\n",
    "\n",
    "import torch\n",
    "from torch import nn\n",
    "from torch.utils import data as torch_data\n",
    "from sklearn import model_selection as sk_model_selection\n",
    "from torch.nn import functional as torch_functional\n",
    "import torch.nn.functional as F\n",
    "\n",
    "from sklearn.model_selection import StratifiedKFold\n",
    "from sklearn.metrics import roc_auc_score, roc_curve, auc"
   ]
  },
  {
   "cell_type": "code",
   "execution_count": 17,
   "metadata": {
    "ExecuteTime": {
     "end_time": "2023-11-10T03:24:36.154867467Z",
     "start_time": "2023-11-10T03:24:36.153292511Z"
    }
   },
   "outputs": [],
   "source": [
    "data_directory = 'rsna-miccai-brain-tumor-radiogenomic-classification'\n",
    "pytorch3dpath = \"EfficientNet-PyTorch-3D\"\n",
    "\n",
    "mri_types = ['FLAIR']\n",
    "SIZE = 256\n",
    "NUM_IMAGES = 64\n",
    "\n",
    "sys.path.append(pytorch3dpath)\n",
    "\n",
    "from efficientnet_pytorch_3d import EfficientNet3D"
   ]
  },
  {
   "cell_type": "code",
   "execution_count": 18,
   "metadata": {
    "ExecuteTime": {
     "end_time": "2023-11-10T03:24:36.566594807Z",
     "start_time": "2023-11-10T03:24:36.155737730Z"
    }
   },
   "outputs": [
    {
     "name": "stdout",
     "output_type": "stream",
     "text": [
      "(1, 256, 256, 64)\n",
      "0.0 1.0 0.07902179328632788 0.00023671822699371212\n"
     ]
    }
   ],
   "source": [
    "def load_dicom_image(path, img_size=SIZE, voi_lut=True, rotate=0):\n",
    "    dicom = pydicom.read_file(path)\n",
    "    data = dicom.pixel_array\n",
    "    if voi_lut:\n",
    "        data = apply_voi_lut(dicom.pixel_array, dicom)\n",
    "    else:\n",
    "        data = dicom.pixel_array\n",
    "        \n",
    "    if rotate > 0:\n",
    "        rot_choices = [0, cv2.ROTATE_90_CLOCKWISE, cv2.ROTATE_90_COUNTERCLOCKWISE, cv2.ROTATE_180]\n",
    "        data = cv2.rotate(data, rot_choices[rotate])\n",
    "        \n",
    "    data = cv2.resize(data, (img_size, img_size))\n",
    "    return data\n",
    "\n",
    "\n",
    "def load_dicom_images_3d(scan_id, num_imgs=NUM_IMAGES, img_size=SIZE, mri_type=\"FLAIR\", split=\"train\", rotate=0):\n",
    "\n",
    "    files = sorted(glob.glob(f\"{data_directory}/{split}/{scan_id}/{mri_type}/*.dcm\"), \n",
    "               key=lambda var:[int(x) if x.isdigit() else x for x in re.findall(r'[^0-9]|[0-9]+', var)])\n",
    "\n",
    "    middle = len(files)//2\n",
    "    num_imgs2 = num_imgs//2\n",
    "    p1 = max(0, middle - num_imgs2)\n",
    "    p2 = min(len(files), middle + num_imgs2)\n",
    "    img3d = np.stack([load_dicom_image(f, rotate=rotate) for f in files[p1:p2]]).T \n",
    "    if img3d.shape[-1] < num_imgs:\n",
    "        n_zero = np.zeros((img_size, img_size, num_imgs - img3d.shape[-1]))\n",
    "        img3d = np.concatenate((img3d,  n_zero), axis = -1)\n",
    "        \n",
    "    if np.min(img3d) < np.max(img3d):\n",
    "        img3d = img3d - np.min(img3d)\n",
    "        img3d = img3d / np.max(img3d)\n",
    "            \n",
    "    return np.expand_dims(img3d,0)\n",
    "\n",
    "a = load_dicom_images_3d(\"00000\")\n",
    "print(a.shape)\n",
    "print(np.min(a), np.max(a), np.mean(a), np.median(a))"
   ]
  },
  {
   "cell_type": "code",
   "execution_count": 19,
   "metadata": {
    "ExecuteTime": {
     "end_time": "2023-11-10T03:24:36.566958371Z",
     "start_time": "2023-11-10T03:24:36.566491986Z"
    }
   },
   "outputs": [],
   "source": [
    "def set_seed(seed):\n",
    "    random.seed(seed)\n",
    "    os.environ[\"PYTHONHASHSEED\"] = str(seed)\n",
    "    np.random.seed(seed)\n",
    "    torch.manual_seed(seed)\n",
    "    if torch.cuda.is_available():\n",
    "        torch.cuda.manual_seed_all(seed)\n",
    "        torch.backends.cudnn.deterministic = True\n",
    "\n",
    "set_seed(12)"
   ]
  },
  {
   "cell_type": "code",
   "execution_count": 20,
   "metadata": {
    "ExecuteTime": {
     "end_time": "2023-11-10T03:24:36.567337534Z",
     "start_time": "2023-11-10T03:24:36.566538774Z"
    }
   },
   "outputs": [
    {
     "data": {
      "text/plain": "     BraTS21ID  MGMT_value\n0            0           1\n1            2           1\n2            3           0\n3            5           1\n4            6           1\n..         ...         ...\n580       1005           1\n581       1007           1\n582       1008           1\n583       1009           0\n584       1010           0\n\n[585 rows x 2 columns]",
      "text/html": "<div>\n<style scoped>\n    .dataframe tbody tr th:only-of-type {\n        vertical-align: middle;\n    }\n\n    .dataframe tbody tr th {\n        vertical-align: top;\n    }\n\n    .dataframe thead th {\n        text-align: right;\n    }\n</style>\n<table border=\"1\" class=\"dataframe\">\n  <thead>\n    <tr style=\"text-align: right;\">\n      <th></th>\n      <th>BraTS21ID</th>\n      <th>MGMT_value</th>\n    </tr>\n  </thead>\n  <tbody>\n    <tr>\n      <th>0</th>\n      <td>0</td>\n      <td>1</td>\n    </tr>\n    <tr>\n      <th>1</th>\n      <td>2</td>\n      <td>1</td>\n    </tr>\n    <tr>\n      <th>2</th>\n      <td>3</td>\n      <td>0</td>\n    </tr>\n    <tr>\n      <th>3</th>\n      <td>5</td>\n      <td>1</td>\n    </tr>\n    <tr>\n      <th>4</th>\n      <td>6</td>\n      <td>1</td>\n    </tr>\n    <tr>\n      <th>...</th>\n      <td>...</td>\n      <td>...</td>\n    </tr>\n    <tr>\n      <th>580</th>\n      <td>1005</td>\n      <td>1</td>\n    </tr>\n    <tr>\n      <th>581</th>\n      <td>1007</td>\n      <td>1</td>\n    </tr>\n    <tr>\n      <th>582</th>\n      <td>1008</td>\n      <td>1</td>\n    </tr>\n    <tr>\n      <th>583</th>\n      <td>1009</td>\n      <td>0</td>\n    </tr>\n    <tr>\n      <th>584</th>\n      <td>1010</td>\n      <td>0</td>\n    </tr>\n  </tbody>\n</table>\n<p>585 rows × 2 columns</p>\n</div>"
     },
     "metadata": {},
     "output_type": "display_data"
    }
   ],
   "source": [
    "train_df = pd.read_csv(f\"{data_directory}/train_labels.csv\")\n",
    "display(train_df)\n",
    "\n",
    "df_train, df_valid = sk_model_selection.train_test_split(\n",
    "    train_df, \n",
    "    test_size=0.2, \n",
    "    random_state=12, \n",
    "    stratify=train_df[\"MGMT_value\"],\n",
    ")\n"
   ]
  },
  {
   "cell_type": "code",
   "execution_count": 21,
   "metadata": {
    "ExecuteTime": {
     "end_time": "2023-11-10T03:24:36.567674219Z",
     "start_time": "2023-11-10T03:24:36.566582721Z"
    }
   },
   "outputs": [
    {
     "data": {
      "text/plain": "     BraTS21ID  MGMT_value\n105        157           0\n222        322           1\n114        170           0\n223        324           0\n81         123           0",
      "text/html": "<div>\n<style scoped>\n    .dataframe tbody tr th:only-of-type {\n        vertical-align: middle;\n    }\n\n    .dataframe tbody tr th {\n        vertical-align: top;\n    }\n\n    .dataframe thead th {\n        text-align: right;\n    }\n</style>\n<table border=\"1\" class=\"dataframe\">\n  <thead>\n    <tr style=\"text-align: right;\">\n      <th></th>\n      <th>BraTS21ID</th>\n      <th>MGMT_value</th>\n    </tr>\n  </thead>\n  <tbody>\n    <tr>\n      <th>105</th>\n      <td>157</td>\n      <td>0</td>\n    </tr>\n    <tr>\n      <th>222</th>\n      <td>322</td>\n      <td>1</td>\n    </tr>\n    <tr>\n      <th>114</th>\n      <td>170</td>\n      <td>0</td>\n    </tr>\n    <tr>\n      <th>223</th>\n      <td>324</td>\n      <td>0</td>\n    </tr>\n    <tr>\n      <th>81</th>\n      <td>123</td>\n      <td>0</td>\n    </tr>\n  </tbody>\n</table>\n</div>"
     },
     "execution_count": 21,
     "metadata": {},
     "output_type": "execute_result"
    }
   ],
   "source": [
    "df_train.tail()"
   ]
  },
  {
   "cell_type": "code",
   "execution_count": 22,
   "metadata": {
    "ExecuteTime": {
     "end_time": "2023-11-10T03:24:36.568130316Z",
     "start_time": "2023-11-10T03:24:36.566605005Z"
    }
   },
   "outputs": [],
   "source": [
    "class Dataset(torch_data.Dataset):\n",
    "    def __init__(self, paths, targets=None, mri_type=None, label_smoothing=0.01, split=\"train\", augment=False):\n",
    "        self.paths = paths\n",
    "        self.targets = targets\n",
    "        self.mri_type = mri_type\n",
    "        self.label_smoothing = label_smoothing\n",
    "        self.split = split\n",
    "        self.augment = augment\n",
    "          \n",
    "    def __len__(self):\n",
    "        return len(self.paths)\n",
    "    \n",
    "    def __getitem__(self, index):\n",
    "        scan_id = self.paths[index]\n",
    "        if self.targets is None:\n",
    "            data = load_dicom_images_3d(str(scan_id).zfill(5), mri_type=self.mri_type[index], split=self.split)\n",
    "        else:\n",
    "            if self.augment:\n",
    "                rotation = np.random.randint(0,4)\n",
    "            else:\n",
    "                rotation = 0\n",
    "\n",
    "            data = load_dicom_images_3d(str(scan_id).zfill(5), mri_type=self.mri_type[index], split=\"train\", rotate=rotation)\n",
    "\n",
    "        if self.targets is None:\n",
    "            return {\"X\": torch.tensor(data).float(), \"id\": scan_id}\n",
    "        else:\n",
    "            y = torch.tensor(abs(self.targets[index]-self.label_smoothing), dtype=torch.float)\n",
    "            return {\"X\": torch.tensor(data).float(), \"y\": y}\n"
   ]
  },
  {
   "cell_type": "code",
   "execution_count": 23,
   "metadata": {
    "ExecuteTime": {
     "end_time": "2023-11-10T03:24:36.568366813Z",
     "start_time": "2023-11-10T03:24:36.566661943Z"
    }
   },
   "outputs": [],
   "source": [
    "class Model(nn.Module):\n",
    "    def __init__(self):\n",
    "        super().__init__()\n",
    "        self.net = EfficientNet3D.from_name(\"efficientnet-b0\", override_params={'num_classes': 2}, in_channels=1)\n",
    "        n_features = self.net._fc.in_features\n",
    "        self.net._fc = nn.Linear(in_features=n_features, out_features=1, bias=True)\n",
    "    \n",
    "    def forward(self, x):\n",
    "        out = self.net(x)\n",
    "        return out\n",
    "    "
   ]
  },
  {
   "cell_type": "code",
   "execution_count": 24,
   "metadata": {
    "ExecuteTime": {
     "end_time": "2023-11-10T03:24:36.568600402Z",
     "start_time": "2023-11-10T03:24:36.566681959Z"
    }
   },
   "outputs": [],
   "source": [
    "class Trainer:\n",
    "    def __init__(\n",
    "        self, \n",
    "        model, \n",
    "        device, \n",
    "        optimizer, \n",
    "        criterion\n",
    "    ):\n",
    "        self.model = model\n",
    "        self.device = device\n",
    "        self.optimizer = optimizer\n",
    "        self.criterion = criterion\n",
    "\n",
    "        self.best_valid_score = np.inf\n",
    "        self.n_patience = 0\n",
    "        self.lastmodel = None\n",
    "        \n",
    "    def fit(self, epochs, train_loader, valid_loader, save_path, patience):        \n",
    "        for n_epoch in range(1, epochs + 1):\n",
    "            self.info_message(\"EPOCH: {}\", n_epoch)\n",
    "            \n",
    "            train_loss, train_time = self.train_epoch(train_loader)\n",
    "            valid_loss, valid_auc, valid_time = self.valid_epoch(valid_loader)\n",
    "            \n",
    "            self.info_message(\n",
    "                \"[Epoch Train: {}] loss: {:.4f}, time: {:.2f} s            \",\n",
    "                n_epoch, train_loss, train_time\n",
    "            )\n",
    "            \n",
    "            self.info_message(\n",
    "                \"[Epoch Valid: {}] loss: {:.4f}, auc: {:.4f}, time: {:.2f} s\",\n",
    "                n_epoch, valid_loss, valid_auc, valid_time\n",
    "            )\n",
    "\n",
    "            # if True:\n",
    "            #if self.best_valid_score < valid_auc: \n",
    "            if self.best_valid_score > valid_loss: \n",
    "                self.save_model(n_epoch, save_path, valid_loss, valid_auc)\n",
    "                self.info_message(\n",
    "                     \"auc improved from {:.4f} to {:.4f}. Saved model to '{}'\", \n",
    "                    self.best_valid_score, valid_loss, self.lastmodel\n",
    "                )\n",
    "                self.best_valid_score = valid_loss\n",
    "                self.n_patience = 0\n",
    "            else:\n",
    "                self.n_patience += 1\n",
    "            \n",
    "            if self.n_patience >= patience:\n",
    "                self.info_message(\"\\nValid auc didn't improve last {} epochs.\", patience)\n",
    "                break\n",
    "            \n",
    "    def train_epoch(self, train_loader):\n",
    "        self.model.train()\n",
    "        t = time.time()\n",
    "        sum_loss = 0\n",
    "\n",
    "        for step, batch in enumerate(train_loader, 1):\n",
    "            X = batch[\"X\"].to(self.device)\n",
    "            targets = batch[\"y\"].to(self.device)\n",
    "            self.optimizer.zero_grad()\n",
    "            outputs = self.model(X).squeeze(1)\n",
    "            \n",
    "            loss = self.criterion(outputs, targets)\n",
    "            loss.backward()\n",
    "\n",
    "            sum_loss += loss.detach().item()\n",
    "\n",
    "            self.optimizer.step()\n",
    "            \n",
    "            message = 'Train Step {}/{}, train_loss: {:.4f}'\n",
    "            self.info_message(message, step, len(train_loader), sum_loss/step, end=\"\\r\")\n",
    "        \n",
    "        return sum_loss/len(train_loader), int(time.time() - t)\n",
    "    \n",
    "    def valid_epoch(self, valid_loader):\n",
    "        self.model.eval()\n",
    "        t = time.time()\n",
    "        sum_loss = 0\n",
    "        y_all = []\n",
    "        outputs_all = []\n",
    "\n",
    "        for step, batch in enumerate(valid_loader, 1):\n",
    "            with torch.no_grad():\n",
    "                X = batch[\"X\"].to(self.device)\n",
    "                targets = batch[\"y\"].to(self.device)\n",
    "\n",
    "                outputs = self.model(X).squeeze(1)\n",
    "                loss = self.criterion(outputs, targets)\n",
    "\n",
    "                sum_loss += loss.detach().item()\n",
    "                y_all.extend(batch[\"y\"].tolist())\n",
    "                outputs_all.extend(torch.sigmoid(outputs).tolist())\n",
    "\n",
    "            message = 'Valid Step {}/{}, valid_loss: {:.4f}'\n",
    "            self.info_message(message, step, len(valid_loader), sum_loss/step, end=\"\\r\")\n",
    "            \n",
    "        y_all = [1 if x > 0.5 else 0 for x in y_all]\n",
    "        auc = roc_auc_score(y_all, outputs_all)\n",
    "        \n",
    "        return sum_loss/len(valid_loader), auc, int(time.time() - t)\n",
    "    \n",
    "    def save_model(self, n_epoch, save_path, loss, auc):\n",
    "        self.lastmodel = f\"{save_path}-e{n_epoch}-loss{loss:.3f}-auc{auc:.3f}.pth\"\n",
    "        torch.save(\n",
    "            {\n",
    "                \"model_state_dict\": self.model.state_dict(),\n",
    "                \"optimizer_state_dict\": self.optimizer.state_dict(),\n",
    "                \"best_valid_score\": self.best_valid_score,\n",
    "                \"n_epoch\": n_epoch,\n",
    "            },\n",
    "            self.lastmodel,\n",
    "        )\n",
    "    \n",
    "    @staticmethod\n",
    "    def info_message(message, *args, end=\"\\n\"):\n",
    "        print(message.format(*args), end=end)"
   ]
  },
  {
   "cell_type": "code",
   "execution_count": 25,
   "metadata": {
    "ExecuteTime": {
     "end_time": "2023-11-10T03:39:11.214439423Z",
     "start_time": "2023-11-10T03:24:36.566711109Z"
    }
   },
   "outputs": [
    {
     "name": "stdout",
     "output_type": "stream",
     "text": [
      "(468, 3) (117, 3)\n"
     ]
    },
    {
     "name": "stderr",
     "output_type": "stream",
     "text": [
      "/usr/lib/python3/dist-packages/pandas/core/indexing.py:1667: SettingWithCopyWarning: \n",
      "A value is trying to be set on a copy of a slice from a DataFrame.\n",
      "Try using .loc[row_indexer,col_indexer] = value instead\n",
      "\n",
      "See the caveats in the documentation: https://pandas.pydata.org/pandas-docs/stable/user_guide/indexing.html#returning-a-view-versus-a-copy\n",
      "  self.obj[key] = value\n"
     ]
    },
    {
     "data": {
      "text/plain": "     BraTS21ID  MGMT_value MRI_Type\n446        645           0    FLAIR\n529        777           1    FLAIR\n420        607           1    FLAIR\n406        589           0    FLAIR\n475        690           1    FLAIR",
      "text/html": "<div>\n<style scoped>\n    .dataframe tbody tr th:only-of-type {\n        vertical-align: middle;\n    }\n\n    .dataframe tbody tr th {\n        vertical-align: top;\n    }\n\n    .dataframe thead th {\n        text-align: right;\n    }\n</style>\n<table border=\"1\" class=\"dataframe\">\n  <thead>\n    <tr style=\"text-align: right;\">\n      <th></th>\n      <th>BraTS21ID</th>\n      <th>MGMT_value</th>\n      <th>MRI_Type</th>\n    </tr>\n  </thead>\n  <tbody>\n    <tr>\n      <th>446</th>\n      <td>645</td>\n      <td>0</td>\n      <td>FLAIR</td>\n    </tr>\n    <tr>\n      <th>529</th>\n      <td>777</td>\n      <td>1</td>\n      <td>FLAIR</td>\n    </tr>\n    <tr>\n      <th>420</th>\n      <td>607</td>\n      <td>1</td>\n      <td>FLAIR</td>\n    </tr>\n    <tr>\n      <th>406</th>\n      <td>589</td>\n      <td>0</td>\n      <td>FLAIR</td>\n    </tr>\n    <tr>\n      <th>475</th>\n      <td>690</td>\n      <td>1</td>\n      <td>FLAIR</td>\n    </tr>\n  </tbody>\n</table>\n</div>"
     },
     "metadata": {},
     "output_type": "display_data"
    },
    {
     "name": "stdout",
     "output_type": "stream",
     "text": [
      "EPOCH: 1\n",
      "[Epoch Train: 1] loss: 0.7682, time: 31.00 s            alid_loss: 0.6913Valid Step 8/30, valid_loss: 0.6901Valid Step 17/30, valid_loss: 0.6927Valid Step 21/30, valid_loss: 0.6929Valid Step 25/30, valid_loss: 0.6935\n",
      "[Epoch Valid: 1] loss: 0.6940, auc: 0.5184, time: 17.00 s\n",
      "auc improved from inf to 0.6940. Saved model to 'FLAIR-e1-loss0.694-auc0.518.pth'\n",
      "EPOCH: 2\n",
      "[Epoch Train: 2] loss: 0.7132, time: 32.00 s            alid_loss: 0.6943Valid Step 17/30, valid_loss: 0.6975Valid Step 25/30, valid_loss: 0.7012\n",
      "[Epoch Valid: 2] loss: 0.7033, auc: 0.4434, time: 9.00 s\n",
      "EPOCH: 3\n",
      "[Epoch Train: 3] loss: 0.7009, time: 24.00 s            alid_loss: 0.7048Valid Step 11/30, valid_loss: 0.6990Valid Step 17/30, valid_loss: 0.7021Valid Step 25/30, valid_loss: 0.6990\n",
      "[Epoch Valid: 3] loss: 0.6972, auc: 0.6063, time: 11.00 s\n",
      "EPOCH: 4\n",
      "[Epoch Train: 4] loss: 0.7065, time: 48.00 s            alid_loss: 0.7141Valid Step 6/30, valid_loss: 0.7700Valid Step 9/30, valid_loss: 0.7497Valid Step 15/30, valid_loss: 0.7457Valid Step 17/30, valid_loss: 0.7380Valid Step 25/30, valid_loss: 0.7278\n",
      "[Epoch Valid: 4] loss: 0.7251, auc: 0.4315, time: 23.00 s\n",
      "EPOCH: 5\n",
      "[Epoch Train: 5] loss: 0.7046, time: 97.00 s            alid_loss: 0.7021Valid Step 9/30, valid_loss: 0.7085Valid Step 15/30, valid_loss: 0.7942Valid Step 17/30, valid_loss: 0.7981Valid Step 23/30, valid_loss: 0.7830Valid Step 25/30, valid_loss: 0.8127Valid Step 29/30, valid_loss: 0.7950\n",
      "[Epoch Valid: 5] loss: 0.7946, auc: 0.4909, time: 23.00 s\n",
      "EPOCH: 6\n",
      "[Epoch Train: 6] loss: 0.6945, time: 77.00 s            alid_loss: 0.6758Valid Step 8/30, valid_loss: 0.6986Valid Step 10/30, valid_loss: 0.6831Valid Step 14/30, valid_loss: 0.7259Valid Step 17/30, valid_loss: 0.7328Valid Step 25/30, valid_loss: 0.7086\n",
      "[Epoch Valid: 6] loss: 0.7047, auc: 0.6025, time: 23.00 s\n",
      "EPOCH: 7\n",
      "[Epoch Train: 7] loss: 0.6940, time: 96.00 s            alid_loss: 0.6647Valid Step 8/30, valid_loss: 0.7477Valid Step 15/30, valid_loss: 0.9828Valid Step 17/30, valid_loss: 1.0159Valid Step 23/30, valid_loss: 1.0711Valid Step 25/30, valid_loss: 1.0374\n",
      "[Epoch Valid: 7] loss: 1.0334, auc: 0.5176, time: 22.00 s\n",
      "EPOCH: 8\n",
      "[Epoch Train: 8] loss: 0.7050, time: 93.00 s            alid_loss: 0.7012Valid Step 12/30, valid_loss: 0.6937Valid Step 17/30, valid_loss: 0.6974Valid Step 21/30, valid_loss: 0.6990Valid Step 25/30, valid_loss: 0.6971\n",
      "[Epoch Valid: 8] loss: 0.6957, auc: 0.4407, time: 23.00 s\n",
      "EPOCH: 9\n",
      "[Epoch Train: 9] loss: 0.7016, time: 96.00 s            alid_loss: 0.7183Valid Step 8/30, valid_loss: 0.6980Valid Step 17/30, valid_loss: 0.8630Valid Step 25/30, valid_loss: 0.8633\n",
      "[Epoch Valid: 9] loss: 0.8339, auc: 0.4046, time: 24.00 s\n",
      "EPOCH: 10\n",
      "[Epoch Train: 10] loss: 0.6960, time: 73.00 s            lid_loss: 0.6894Valid Step 12/30, valid_loss: 0.7046Valid Step 15/30, valid_loss: 0.6951Valid Step 17/30, valid_loss: 0.6990Valid Step 25/30, valid_loss: 0.7235\n",
      "[Epoch Valid: 10] loss: 0.7354, auc: 0.4982, time: 22.00 s\n",
      "['FLAIR-e1-loss0.694-auc0.518.pth']\n"
     ]
    }
   ],
   "source": [
    "device = torch.device(\"cuda\" if torch.cuda.is_available() else \"cpu\")\n",
    "\n",
    "def train_mri_type(df_train, df_valid, mri_type):\n",
    "    if mri_type==\"all\":\n",
    "        train_list = []\n",
    "        valid_list = []\n",
    "        for mri_type in mri_types:\n",
    "            df_train.loc[:,\"MRI_Type\"] = mri_type\n",
    "            train_list.append(df_train.copy())\n",
    "            df_valid.loc[:,\"MRI_Type\"] = mri_type\n",
    "            valid_list.append(df_valid.copy())\n",
    "\n",
    "        df_train = pd.concat(train_list)\n",
    "        df_valid = pd.concat(valid_list)\n",
    "    else:\n",
    "        df_train.loc[:,\"MRI_Type\"] = mri_type\n",
    "        df_valid.loc[:,\"MRI_Type\"] = mri_type\n",
    "\n",
    "    print(df_train.shape, df_valid.shape)\n",
    "    display(df_train.head())\n",
    "    \n",
    "    train_data_retriever = Dataset(\n",
    "        df_train[\"BraTS21ID\"].values, \n",
    "        df_train[\"MGMT_value\"].values, \n",
    "        df_train[\"MRI_Type\"].values,\n",
    "        augment=True\n",
    "    )\n",
    "\n",
    "    valid_data_retriever = Dataset(\n",
    "        df_valid[\"BraTS21ID\"].values, \n",
    "        df_valid[\"MGMT_value\"].values,\n",
    "        df_valid[\"MRI_Type\"].values\n",
    "    )\n",
    "\n",
    "    train_loader = torch_data.DataLoader(\n",
    "        train_data_retriever,\n",
    "        batch_size=4,\n",
    "        shuffle=True,\n",
    "        num_workers=8,pin_memory = True\n",
    "    )\n",
    "\n",
    "    valid_loader = torch_data.DataLoader(\n",
    "        valid_data_retriever, \n",
    "        batch_size=4,\n",
    "        shuffle=False,\n",
    "        num_workers=8,pin_memory = True\n",
    "    )\n",
    "\n",
    "    model = Model()\n",
    "    model.to(device)\n",
    "\n",
    "    #checkpoint = torch.load(\"best-model-all-auc0.555.pth\")\n",
    "    #model.load_state_dict(checkpoint[\"model_state_dict\"])\n",
    "\n",
    "    #print(model)\n",
    "\n",
    "    optimizer = torch.optim.Adam(model.parameters(), lr=0.001)\n",
    "    #optimizer = torch.optim.SGD(model.parameters(), lr=0.001, momentum=0.9)\n",
    "\n",
    "    criterion = torch_functional.binary_cross_entropy_with_logits\n",
    "\n",
    "    trainer = Trainer(\n",
    "        model, \n",
    "        device, \n",
    "        optimizer, \n",
    "        criterion\n",
    "    )\n",
    "\n",
    "    history = trainer.fit(\n",
    "        10, \n",
    "        train_loader, \n",
    "        valid_loader, \n",
    "        f\"{mri_type}\", \n",
    "        10,\n",
    "    )\n",
    "    \n",
    "    return trainer.lastmodel\n",
    "\n",
    "modelfiles = None\n",
    "\n",
    "if not modelfiles:\n",
    "    modelfiles = [train_mri_type(df_train, df_valid, m) for m in mri_types]\n",
    "    print(modelfiles)"
   ]
  },
  {
   "cell_type": "code",
   "execution_count": 26,
   "metadata": {
    "ExecuteTime": {
     "end_time": "2023-11-10T03:39:11.216744589Z",
     "start_time": "2023-11-10T03:39:11.215218715Z"
    }
   },
   "outputs": [],
   "source": [
    "def predict(modelfile, df, mri_type, split):\n",
    "    print(\"Predict:\", modelfile, mri_type, df.shape)\n",
    "    df.loc[:,\"MRI_Type\"] = mri_type\n",
    "    data_retriever = Dataset(\n",
    "        df.index.values, \n",
    "        mri_type=df[\"MRI_Type\"].values,\n",
    "        split=split\n",
    "    )\n",
    "\n",
    "    data_loader = torch_data.DataLoader(\n",
    "        data_retriever,\n",
    "        batch_size=4,\n",
    "        shuffle=False,\n",
    "        num_workers=8,\n",
    "    )\n",
    "   \n",
    "    model = Model()\n",
    "    model.to(device)\n",
    "    \n",
    "    checkpoint = torch.load(modelfile)\n",
    "    model.load_state_dict(checkpoint[\"model_state_dict\"])\n",
    "    model.eval()\n",
    "    \n",
    "    y_pred = []\n",
    "    ids = []\n",
    "\n",
    "    for e, batch in enumerate(data_loader,1):\n",
    "        print(f\"{e}/{len(data_loader)}\", end=\"\\r\")\n",
    "        with torch.no_grad():\n",
    "            tmp_pred = torch.sigmoid(model(batch[\"X\"].to(device))).cpu().numpy().squeeze()\n",
    "            if tmp_pred.size == 1:\n",
    "                y_pred.append(tmp_pred)\n",
    "            else:\n",
    "                y_pred.extend(tmp_pred.tolist())\n",
    "            ids.extend(batch[\"id\"].numpy().tolist())\n",
    "            \n",
    "    preddf = pd.DataFrame({\"BraTS21ID\": ids, \"MGMT_value\": y_pred}) \n",
    "    preddf = preddf.set_index(\"BraTS21ID\")\n",
    "    return preddf"
   ]
  },
  {
   "cell_type": "code",
   "execution_count": 27,
   "metadata": {
    "ExecuteTime": {
     "end_time": "2023-11-10T03:39:23.472201105Z",
     "start_time": "2023-11-10T03:39:11.217889237Z"
    }
   },
   "outputs": [
    {
     "name": "stdout",
     "output_type": "stream",
     "text": [
      "Predict: FLAIR-e1-loss0.694-auc0.518.pth FLAIR (117, 3)\n",
      "Validation ensemble AUC: 0.5184\n"
     ]
    },
    {
     "data": {
      "text/plain": "<Figure size 360x360 with 1 Axes>",
      "image/png": "[encoded data removed]"
     },
     "metadata": {},
     "output_type": "display_data"
    },
    {
     "data": {
      "text/plain": "<Figure size 576x432 with 1 Axes>",
      "image/png": "[encoded data removed]"
     },
     "metadata": {},
     "output_type": "display_data"
    }
   ],
   "source": [
    "df_valid = df_valid.set_index(\"BraTS21ID\")\n",
    "df_valid[\"MGMT_pred\"] = 0\n",
    "for m, mtype in zip(modelfiles,  mri_types):\n",
    "    pred = predict(m, df_valid, mtype, \"train\")\n",
    "    df_valid[\"MGMT_pred\"] += pred[\"MGMT_value\"]\n",
    "df_valid[\"MGMT_pred\"] /= len(modelfiles)\n",
    "r_auc = roc_auc_score(df_valid[\"MGMT_value\"], df_valid[\"MGMT_pred\"])\n",
    "print(f\"Validation ensemble AUC: {r_auc:.4f}\")\n",
    "sns.displot(df_valid[\"MGMT_pred\"])\n",
    "\n",
    "\n",
    "fpr, tpr, _ = roc_curve(df_valid[\"MGMT_value\"], df_valid[\"MGMT_pred\"])\n",
    "roc_auc = auc(fpr, tpr)\n",
    "\n",
    "# Plot the ROC curve\n",
    "plt.figure(figsize=(8, 6))\n",
    "plt.plot(fpr, tpr, color='darkorange', lw=2, label=f'ROC curve (area = {roc_auc:.2f})')\n",
    "plt.plot([0, 1], [0, 1], color='navy', lw=2, linestyle='--')\n",
    "plt.xlim([0.0, 1.0])\n",
    "plt.ylim([0.0, 1.05])\n",
    "plt.xlabel('False Positive Rate')\n",
    "plt.ylabel('True Positive Rate')\n",
    "plt.title('Receiver Operating Characteristic (ROC)')\n",
    "plt.legend(loc='lower right')\n",
    "plt.savefig(\"flair_auc.png\")\n",
    "plt.show()\n"
   ]
  },
  {
   "cell_type": "code",
   "execution_count": 28,
   "metadata": {
    "ExecuteTime": {
     "end_time": "2023-11-10T03:39:23.472548841Z",
     "start_time": "2023-11-10T03:39:23.466023745Z"
    }
   },
   "outputs": [],
   "source": [
    "# submission = pd.read_csv(f\"{data_directory}/sample_submission.csv\", index_col=\"BraTS21ID\")\n",
    "# \n",
    "# submission[\"MGMT_value\"] = 0\n",
    "# for m, mtype in zip(modelfiles, mri_types):\n",
    "#     pred = predict(m, submission, mtype, split=\"test\")\n",
    "#     submission[\"MGMT_value\"] += pred[\"MGMT_value\"]\n",
    "# \n",
    "# submission[\"MGMT_value\"] /= len(modelfiles)\n",
    "# submission[\"MGMT_value\"].to_csv(\"submission.csv\")"
   ]
  },
  {
   "cell_type": "code",
   "execution_count": 29,
   "metadata": {
    "ExecuteTime": {
     "end_time": "2023-11-10T03:39:23.472805807Z",
     "start_time": "2023-11-10T03:39:23.467326717Z"
    }
   },
   "outputs": [],
   "source": [
    "# submission"
   ]
  },
  {
   "cell_type": "code",
   "execution_count": 30,
   "metadata": {
    "ExecuteTime": {
     "end_time": "2023-11-10T03:39:23.473041420Z",
     "start_time": "2023-11-10T03:39:23.468570895Z"
    }
   },
   "outputs": [],
   "source": [
    "# sns.displot(submission[\"MGMT_value\"])"
   ]
  },
  {
   "cell_type": "code",
   "execution_count": 30,
   "metadata": {
    "ExecuteTime": {
     "end_time": "2023-11-10T03:39:23.517838383Z",
     "start_time": "2023-11-10T03:39:23.510432275Z"
    }
   },
   "outputs": [],
   "source": []
  }
 ],
 "metadata": {
  "kernelspec": {
   "display_name": "Python 3 (ipykernel)",
   "language": "python",
   "name": "python3"
  },
  "language_info": {
   "name": "python"
  }
 },
 "nbformat": 4,
 "nbformat_minor": 2
}
